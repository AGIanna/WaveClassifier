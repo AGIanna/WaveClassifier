{
 "metadata": {
  "language_info": {
   "codemirror_mode": {
    "name": "ipython",
    "version": 3
   },
   "file_extension": ".py",
   "mimetype": "text/x-python",
   "name": "python",
   "nbconvert_exporter": "python",
   "pygments_lexer": "ipython3",
   "version": "3.8.3-final"
  },
  "orig_nbformat": 2,
  "kernelspec": {
   "name": "python3",
   "display_name": "Python 3"
  }
 },
 "nbformat": 4,
 "nbformat_minor": 2,
 "cells": [
  {
   "source": [
    "Notes:\n",
    "- characters are turned to decimal ints because they cant be turned to base 16 ints\n",
    "- manually added using hexedit one more byte to square sample5 because my program kept reading 10239 bytes only, and I needed 10240 to evenly split\n",
    "\n",
    "Need to:\n",
    "- randomize data \n",
    "- split into train and test"
   ],
   "cell_type": "markdown",
   "metadata": {}
  },
  {
   "cell_type": "code",
   "execution_count": 5,
   "metadata": {},
   "outputs": [],
   "source": [
    "import numpy as np"
   ]
  },
  {
   "cell_type": "code",
   "execution_count": 18,
   "metadata": {
    "tags": []
   },
   "outputs": [
    {
     "output_type": "execute_result",
     "data": {
      "text/plain": "(1, 320)"
     },
     "metadata": {},
     "execution_count": 18
    }
   ],
   "source": [
    "shapes = ['sine', 'square','sawtooth','burst']\n",
    "empty = []\n",
    "X = np.arange(320).reshape(1,320)\n",
    "X.shape"
   ]
  },
  {
   "cell_type": "code",
   "execution_count": 29,
   "metadata": {
    "tags": []
   },
   "outputs": [
    {
     "output_type": "stream",
     "name": "stdout",
     "text": "10240\n10240\nb'`\\x00\\x00\\x00\\x01`\\x00\\x00\\x00\\x00'\n10240\n10240\nb'\\x00\\x00`\\x00p\\x00x\\x00\\x1e\\x00'\n10240\n10240\nb'p\\x18\\x07\\x1cxp`a\\x0e\\x1c'\n10240\n10240\nb'\\x0c\\x188\\x0ec\\x1cc\\x18G8'\n10240\n10240\nb'T***T ZU*T'\n"
    }
   ],
   "source": [
    "for shape in shapes:\n",
    "    for i in range(1,6):\n",
    "        path = 'dataset/%s/sample%s/sample.dat' % (shape, i)\n",
    "        data = open(path, 'rb').read()\n",
    "        print(len(data))\n",
    "        data_list = [val for val in data]\n",
    "        print(len(data_list))\n",
    "        print(data[:10])\n",
    "        temp_array = np.array(data_list)\n",
    "        temp_array1 = temp_array.reshape(32,320)\n",
    "        X = np.append(X,temp_array1,axis=0)"
   ]
  },
  {
   "cell_type": "code",
   "execution_count": 30,
   "metadata": {},
   "outputs": [
    {
     "output_type": "execute_result",
     "data": {
      "text/plain": "array([[  0,   1,   2, ..., 317, 318, 319],\n       [ 96,   0,   0, ...,   0,   0,   0],\n       [  0,   0,   1, ...,   0,   0,   0],\n       ...,\n       [ 85,  42,  84, ...,  85,  40,  64],\n       [ 32,  82,   5, ...,  85,  42,  84],\n       [ 37,  42,  84, ...,  37,  42,  85]])"
     },
     "metadata": {},
     "execution_count": 30
    }
   ],
   "source": []
  },
  {
   "cell_type": "code",
   "execution_count": 13,
   "metadata": {},
   "outputs": [
    {
     "output_type": "execute_result",
     "data": {
      "text/plain": "256.0"
     },
     "metadata": {},
     "execution_count": 13
    }
   ],
   "source": [
    "1024/4"
   ]
  },
  {
   "cell_type": "code",
   "execution_count": 4,
   "metadata": {},
   "outputs": [],
   "source": [
    "original_num_features = 10240\n",
    "new_num_features = 320\n",
    "\n",
    "original_num_samples = 20\n",
    "minisamples_per_sample = original_num_features / new_num_features\n",
    "new_num_samples = original_num_samples * minisamples_per_sample"
   ]
  },
  {
   "cell_type": "code",
   "execution_count": 5,
   "metadata": {
    "tags": []
   },
   "outputs": [
    {
     "output_type": "stream",
     "name": "stdout",
     "text": "32.0\n640.0\n"
    }
   ],
   "source": [
    "print(minisamples_per_sample)\n",
    "print(new_num_samples)"
   ]
  },
  {
   "cell_type": "code",
   "execution_count": 34,
   "metadata": {},
   "outputs": [
    {
     "output_type": "execute_result",
     "data": {
      "text/plain": "array([], shape=(0, 100), dtype=float64)"
     },
     "metadata": {},
     "execution_count": 34
    }
   ],
   "source": [
    "np.empty([0,1024])"
   ]
  },
  {
   "cell_type": "code",
   "execution_count": 40,
   "metadata": {
    "tags": []
   },
   "outputs": [
    {
     "output_type": "stream",
     "name": "stdout",
     "text": "10240\n10240\n10240\n10240\n10240\n10240\n10240\n10240\n10240\n10240\n10240\n10240\n10240\n10240\n10240\n10240\n10240\n10240\n10240\n10240\n(200, 1024)\n(200, 1024)\n(200, 4)\n(200, 1028)\n"
    }
   ],
   "source": [
    "#splitting into bigger samples \n",
    "#10240\n",
    "shapes = ['sine', 'square','sawtooth','burst']\n",
    "X = np.empty([0,1024])\n",
    "#X = np.arange(1024).reshape(1,1024)\n",
    "X.shape\n",
    "for shape in shapes:\n",
    "    for i in range(1,6):\n",
    "        path = 'dataset/%s/sample%s/sample.dat' % (shape, i)\n",
    "        data = open(path, 'rb').read()\n",
    "        data_list = [val for val in data]\n",
    "        print(len(data_list))\n",
    "        temp_array = np.array(data_list)\n",
    "        temp_array1 = temp_array.reshape(10,1024)\n",
    "        X = np.append(X,temp_array1,axis=0)\n",
    "\n",
    "print(X.shape) \n",
    "#X = np.delete(X, 1, axis=0)\n",
    "print(X.shape) \n",
    "arr = np.array([[1,0,0,0], [0,1,0,0], [0,0,1,0], [0,0,0,1]])\n",
    "X\n",
    "Y = np.repeat(arr, 50, axis=0)\n",
    "print(Y.shape)\n",
    "data = np.append(X, Y, axis=1)\n",
    "np.random.shuffle(data)\n",
    "print(data.shape)\n",
    "np.savetxt(\"data_1024.csv\", data, delimiter=\",\")"
   ]
  },
  {
   "cell_type": "code",
   "execution_count": 32,
   "metadata": {},
   "outputs": [
    {
     "output_type": "execute_result",
     "data": {
      "text/plain": "(641, 320)"
     },
     "metadata": {},
     "execution_count": 32
    }
   ],
   "source": [
    "X.shape"
   ]
  },
  {
   "cell_type": "code",
   "execution_count": 33,
   "metadata": {},
   "outputs": [
    {
     "output_type": "execute_result",
     "data": {
      "text/plain": "array([[  0,   1,   2, ..., 317, 318, 319],\n       [  6,  68,   2, ...,  32,   4,  48],\n       [  4,  32,   4, ...,   4,  48,   4],\n       ...,\n       [  0,   0,   0, ...,   0,   0,   0],\n       [  0,   0,   0, ...,   0,   0,   0],\n       [  0,   0,   0, ...,   0,   0,   0]])"
     },
     "metadata": {},
     "execution_count": 33
    }
   ],
   "source": [
    "X"
   ]
  },
  {
   "cell_type": "code",
   "execution_count": 34,
   "metadata": {},
   "outputs": [],
   "source": [
    "X = np.delete(X, 1, axis=0)"
   ]
  },
  {
   "cell_type": "code",
   "execution_count": 35,
   "metadata": {},
   "outputs": [
    {
     "output_type": "execute_result",
     "data": {
      "text/plain": "(640, 320)"
     },
     "metadata": {},
     "execution_count": 35
    }
   ],
   "source": [
    "X.shape"
   ]
  },
  {
   "source": [
    "Y is 640x4 matrix \n",
    "- [1,0,0,0] for sine\n",
    "- [0,1,0,0] for square\n",
    "- [0,0,1,0] for sawtooth\n",
    "- [0,0,0,1] for burst"
   ],
   "cell_type": "markdown",
   "metadata": {}
  },
  {
   "cell_type": "code",
   "execution_count": 36,
   "metadata": {},
   "outputs": [],
   "source": [
    "arr = np.array([[1,0,0,0], [0,1,0,0], [0,0,1,0], [0,0,0,1]])"
   ]
  },
  {
   "cell_type": "code",
   "execution_count": 37,
   "metadata": {},
   "outputs": [],
   "source": [
    "Y = np.repeat(arr, 160, axis=0)"
   ]
  },
  {
   "cell_type": "code",
   "execution_count": 38,
   "metadata": {},
   "outputs": [
    {
     "output_type": "execute_result",
     "data": {
      "text/plain": "(640, 4)"
     },
     "metadata": {},
     "execution_count": 38
    }
   ],
   "source": [
    "Y.shape"
   ]
  },
  {
   "cell_type": "code",
   "execution_count": 39,
   "metadata": {},
   "outputs": [
    {
     "output_type": "execute_result",
     "data": {
      "text/plain": "array([[1, 0, 0, 0],\n       [1, 0, 0, 0],\n       [1, 0, 0, 0],\n       ...,\n       [0, 0, 0, 1],\n       [0, 0, 0, 1],\n       [0, 0, 0, 1]])"
     },
     "metadata": {},
     "execution_count": 39
    }
   ],
   "source": [
    "Y"
   ]
  },
  {
   "cell_type": "code",
   "execution_count": 40,
   "metadata": {},
   "outputs": [
    {
     "output_type": "execute_result",
     "data": {
      "text/plain": "array([[ 0,  1,  2, ...,  0,  0,  0],\n       [ 4, 32,  4, ...,  0,  0,  0],\n       [48,  4, 32, ...,  0,  0,  0],\n       ...,\n       [ 0,  0,  0, ...,  0,  0,  1],\n       [ 0,  0,  0, ...,  0,  0,  1],\n       [ 0,  0,  0, ...,  0,  0,  1]])"
     },
     "metadata": {},
     "execution_count": 40
    }
   ],
   "source": [
    "# join x and y to randomize the data and split it\n",
    "data = np.append(X, Y, axis=1)\n",
    "data"
   ]
  },
  {
   "cell_type": "code",
   "execution_count": 41,
   "metadata": {},
   "outputs": [
    {
     "output_type": "execute_result",
     "data": {
      "text/plain": "(640, 324)"
     },
     "metadata": {},
     "execution_count": 41
    }
   ],
   "source": [
    "data.shape"
   ]
  },
  {
   "cell_type": "code",
   "execution_count": 42,
   "metadata": {},
   "outputs": [],
   "source": [
    "#shuffle the array\n",
    "np.random.shuffle(data)"
   ]
  },
  {
   "cell_type": "code",
   "execution_count": 43,
   "metadata": {},
   "outputs": [
    {
     "output_type": "execute_result",
     "data": {
      "text/plain": "array([[ 0,  0,  0, ...,  0,  0,  1],\n       [ 0,  0,  0, ...,  1,  0,  0],\n       [14, 30, 60, ...,  1,  0,  0],\n       ...,\n       [ 1,  3,  2, ...,  0,  0,  0],\n       [ 0,  0,  0, ...,  0,  0,  1],\n       [48, 96, 64, ...,  0,  0,  0]])"
     },
     "metadata": {},
     "execution_count": 43
    }
   ],
   "source": [
    "data"
   ]
  },
  {
   "cell_type": "code",
   "execution_count": 44,
   "metadata": {},
   "outputs": [
    {
     "output_type": "execute_result",
     "data": {
      "text/plain": "(640, 324)"
     },
     "metadata": {},
     "execution_count": 44
    }
   ],
   "source": [
    "data.shape"
   ]
  },
  {
   "cell_type": "code",
   "execution_count": 45,
   "metadata": {},
   "outputs": [],
   "source": [
    "np.savetxt(\"full_data.csv\", data, delimiter=\",\")"
   ]
  },
  {
   "source": [
    "<h3> Separate into train and test\n",
    "- 448 train\n",
    "- 192 test"
   ],
   "cell_type": "markdown",
   "metadata": {}
  },
  {
   "cell_type": "code",
   "execution_count": null,
   "metadata": {},
   "outputs": [],
   "source": []
  },
  {
   "cell_type": "code",
   "execution_count": 242,
   "metadata": {},
   "outputs": [],
   "source": [
    "X_train = data[:448,:320]"
   ]
  },
  {
   "cell_type": "code",
   "execution_count": 243,
   "metadata": {},
   "outputs": [
    {
     "output_type": "execute_result",
     "data": {
      "text/plain": "(448, 320)"
     },
     "metadata": {},
     "execution_count": 243
    }
   ],
   "source": [
    "X_train.shape"
   ]
  },
  {
   "cell_type": "code",
   "execution_count": 244,
   "metadata": {},
   "outputs": [],
   "source": [
    "y_train = data[:448,320:]"
   ]
  },
  {
   "cell_type": "code",
   "execution_count": 245,
   "metadata": {},
   "outputs": [
    {
     "output_type": "execute_result",
     "data": {
      "text/plain": "(448, 4)"
     },
     "metadata": {},
     "execution_count": 245
    }
   ],
   "source": [
    "y_train.shape"
   ]
  },
  {
   "cell_type": "code",
   "execution_count": 246,
   "metadata": {},
   "outputs": [],
   "source": [
    "X_test = data[448:,:320]"
   ]
  },
  {
   "cell_type": "code",
   "execution_count": 247,
   "metadata": {},
   "outputs": [
    {
     "output_type": "execute_result",
     "data": {
      "text/plain": "(192, 320)"
     },
     "metadata": {},
     "execution_count": 247
    }
   ],
   "source": [
    "X_test.shape"
   ]
  },
  {
   "cell_type": "code",
   "execution_count": 248,
   "metadata": {},
   "outputs": [],
   "source": [
    "y_test = data[448:,320:]"
   ]
  },
  {
   "cell_type": "code",
   "execution_count": 249,
   "metadata": {},
   "outputs": [
    {
     "output_type": "execute_result",
     "data": {
      "text/plain": "(192, 4)"
     },
     "metadata": {},
     "execution_count": 249
    }
   ],
   "source": [
    "y_test.shape"
   ]
  },
  {
   "source": [
    "Neural network with 3 layers, input, hidden and output\n",
    "- num of training examples m -> 448\n",
    "- num of hidden layer activations -> 100\n",
    "\n",
    "- input layer has 320 activations + 1 (m x input_layer_size+1 matrix)\n",
    "- hidden layer has 101 activations + 1(m x hidden_layer_size+1 matrix)\n",
    "- output layer has 4 nodes (m x num_labels matrix)\n",
    "\n",
    "2 theta matrices needed:\n",
    "- theta1 -> hidden_layer_size x input_layer_size+1\n",
    "- theta2 -> num_labels x hidden_layer_size+1"
   ],
   "cell_type": "markdown",
   "metadata": {}
  },
  {
   "cell_type": "code",
   "execution_count": 250,
   "metadata": {},
   "outputs": [],
   "source": [
    "m = X_train.shape[0]\n",
    "input_layer_size = 320\n",
    "hidden_layer_size = 100\n",
    "num_labels = 4"
   ]
  },
  {
   "source": [
    "Thetas"
   ],
   "cell_type": "markdown",
   "metadata": {}
  },
  {
   "cell_type": "code",
   "execution_count": 251,
   "metadata": {},
   "outputs": [],
   "source": [
    "init_epsilon = 0.12"
   ]
  },
  {
   "cell_type": "code",
   "execution_count": 252,
   "metadata": {},
   "outputs": [
    {
     "output_type": "execute_result",
     "data": {
      "text/plain": "(100, 321)"
     },
     "metadata": {},
     "execution_count": 252
    }
   ],
   "source": [
    "theta1 = np.random.rand(hidden_layer_size,input_layer_size+1) * (2*init_epsilon) - init_epsilon\n",
    "theta1.shape"
   ]
  },
  {
   "cell_type": "code",
   "execution_count": 253,
   "metadata": {},
   "outputs": [
    {
     "output_type": "execute_result",
     "data": {
      "text/plain": "(4, 101)"
     },
     "metadata": {},
     "execution_count": 253
    }
   ],
   "source": [
    "theta2 = np.random.rand(num_labels,hidden_layer_size+1) * (2*init_epsilon) - init_epsilon\n",
    "theta2.shape"
   ]
  },
  {
   "source": [
    "Add column of 1s to X_train"
   ],
   "cell_type": "markdown",
   "metadata": {}
  },
  {
   "cell_type": "code",
   "execution_count": 254,
   "metadata": {},
   "outputs": [],
   "source": [
    "ones_col = np.ones((m,1))"
   ]
  },
  {
   "cell_type": "code",
   "execution_count": 255,
   "metadata": {},
   "outputs": [],
   "source": [
    "X_train = np.append(ones_col, X_train, axis=1)"
   ]
  },
  {
   "cell_type": "code",
   "execution_count": 256,
   "metadata": {},
   "outputs": [
    {
     "output_type": "execute_result",
     "data": {
      "text/plain": "array([[  1.,   0.,   1., ...,   0., 120.,   0.],\n       [  1.,   3.,   7., ...,   7.,  15.,  14.],\n       [  1.,   0.,   0., ...,  62.,   0.,   0.],\n       ...,\n       [  1.,   4.,  12., ...,   2.,   4.,   4.],\n       [  1.,  72.,  72., ...,  64.,  64.,  72.],\n       [  1.,   0.,   0., ...,   0.,   0.,   0.]])"
     },
     "metadata": {},
     "execution_count": 256
    }
   ],
   "source": [
    "X_train"
   ]
  },
  {
   "source": [
    "<h3> Hypothesis and forward prop"
   ],
   "cell_type": "markdown",
   "metadata": {}
  },
  {
   "source": [
    "#basic rundown of just one layer\n",
    "hidden = np.dot(X_train,np.transpose(theta1))\n"
   ],
   "cell_type": "code",
   "metadata": {},
   "execution_count": 257,
   "outputs": []
  },
  {
   "cell_type": "code",
   "execution_count": 258,
   "metadata": {},
   "outputs": [
    {
     "output_type": "execute_result",
     "data": {
      "text/plain": "(448, 100)"
     },
     "metadata": {},
     "execution_count": 258
    }
   ],
   "source": [
    "#hidden layer\n",
    "hidden.shape"
   ]
  },
  {
   "cell_type": "code",
   "execution_count": 259,
   "metadata": {},
   "outputs": [
    {
     "output_type": "execute_result",
     "data": {
      "text/plain": "(448, 101)"
     },
     "metadata": {},
     "execution_count": 259
    }
   ],
   "source": [
    "#add column of ones to the hidden layer\n",
    "hidden = np.append(ones_col, hidden, axis=1)\n",
    "hidden.shape"
   ]
  },
  {
   "cell_type": "code",
   "execution_count": 260,
   "metadata": {},
   "outputs": [],
   "source": [
    "output = np.dot(hidden,np.transpose(theta2))"
   ]
  },
  {
   "cell_type": "code",
   "execution_count": 261,
   "metadata": {},
   "outputs": [
    {
     "output_type": "execute_result",
     "data": {
      "text/plain": "(448, 4)"
     },
     "metadata": {},
     "execution_count": 261
    }
   ],
   "source": [
    "output.shape"
   ]
  },
  {
   "cell_type": "code",
   "execution_count": 262,
   "metadata": {},
   "outputs": [
    {
     "output_type": "execute_result",
     "data": {
      "text/plain": "array([ 29.73654243,  -9.36445717, -29.82487768, -10.91752918])"
     },
     "metadata": {},
     "execution_count": 262
    }
   ],
   "source": [
    "#sine\n",
    "output[0]"
   ]
  },
  {
   "cell_type": "code",
   "execution_count": 263,
   "metadata": {},
   "outputs": [],
   "source": [
    "def sigmoid(arr):\n",
    "    # 1 / (1 + exp(-z))\n",
    "    sig = 1 / (1 + np.exp(np.negative(arr)))\n",
    "    return sig"
   ]
  },
  {
   "source": [
    "<h3> Hypothesis and forward prop with sigmoid"
   ],
   "cell_type": "markdown",
   "metadata": {}
  },
  {
   "cell_type": "code",
   "execution_count": 264,
   "metadata": {},
   "outputs": [],
   "source": [
    "hidden = np.dot(X_train,np.transpose(theta1))\n",
    "hidden = np.append(ones_col, hidden, axis=1)\n",
    "hidden = sigmoid(hidden)\n",
    "output = np.dot(hidden,np.transpose(theta2))\n",
    "output = sigmoid(output)"
   ]
  },
  {
   "cell_type": "code",
   "execution_count": 265,
   "metadata": {},
   "outputs": [
    {
     "output_type": "execute_result",
     "data": {
      "text/plain": "array([0.64235825, 0.52366222, 0.63350385, 0.65419898])"
     },
     "metadata": {},
     "execution_count": 265
    }
   ],
   "source": [
    "output[0]"
   ]
  },
  {
   "cell_type": "code",
   "execution_count": 266,
   "metadata": {},
   "outputs": [],
   "source": [
    "def forward_prop(theta1, theta2, X):\n",
    "    hidden = np.dot(X,np.transpose(theta1))\n",
    "    hidden = np.append(ones_col, hidden, axis=1)\n",
    "    hidden = sigmoid(hidden)\n",
    "    output = np.dot(hidden,np.transpose(theta2))\n",
    "    output = sigmoid(output)\n",
    "    return output"
   ]
  },
  {
   "cell_type": "code",
   "execution_count": 267,
   "metadata": {},
   "outputs": [
    {
     "output_type": "execute_result",
     "data": {
      "text/plain": "array([[0.64235825, 0.52366222, 0.63350385, 0.65419898],\n       [0.67416087, 0.57001225, 0.50466792, 0.63475979],\n       [0.47020368, 0.37344518, 0.57199762, 0.55411363],\n       ...,\n       [0.67499164, 0.60886606, 0.54781566, 0.69564552],\n       [0.65609351, 0.59125228, 0.53338294, 0.57907371],\n       [0.61083775, 0.60535628, 0.70857199, 0.76385713]])"
     },
     "metadata": {},
     "execution_count": 267
    }
   ],
   "source": [
    "forward_prop(theta1, theta2, X_train)"
   ]
  },
  {
   "cell_type": "code",
   "execution_count": 268,
   "metadata": {},
   "outputs": [
    {
     "output_type": "execute_result",
     "data": {
      "text/plain": "array([0, 0, 1, 0])"
     },
     "metadata": {},
     "execution_count": 268
    }
   ],
   "source": [
    "y_train[0]"
   ]
  },
  {
   "source": [
    "<h3> Backward prop"
   ],
   "cell_type": "markdown",
   "metadata": {}
  },
  {
   "cell_type": "code",
   "execution_count": null,
   "metadata": {},
   "outputs": [],
   "source": [
    "#first the cost function to compute the error"
   ]
  },
  {
   "cell_type": "code",
   "execution_count": null,
   "metadata": {},
   "outputs": [],
   "source": []
  }
 ]
}