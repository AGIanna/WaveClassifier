{
 "metadata": {
  "language_info": {
   "codemirror_mode": {
    "name": "ipython",
    "version": 3
   },
   "file_extension": ".py",
   "mimetype": "text/x-python",
   "name": "python",
   "nbconvert_exporter": "python",
   "pygments_lexer": "ipython3",
   "version": "3.8.3-final"
  },
  "orig_nbformat": 2,
  "kernelspec": {
   "name": "python3",
   "display_name": "Python 3"
  }
 },
 "nbformat": 4,
 "nbformat_minor": 2,
 "cells": [
  {
   "cell_type": "code",
   "execution_count": 1,
   "metadata": {},
   "outputs": [],
   "source": [
    "import numpy as np"
   ]
  },
  {
   "cell_type": "code",
   "execution_count": 74,
   "metadata": {},
   "outputs": [],
   "source": [
    "shapes = ['sine', 'square', 'sawtooth', 'burst']\n",
    "for shape in shapes:\n",
    "    for i in range(4):\n",
    "        path = 'dataset/%s/sample%s/sample.dat' % ()\n",
    "        data = open('dataset/sine/sample3/sample.dat').read()"
   ]
  },
  {
   "cell_type": "code",
   "execution_count": 126,
   "metadata": {},
   "outputs": [],
   "source": [
    "data = open('dataset/square/sample5/sample.dat').read()"
   ]
  },
  {
   "cell_type": "code",
   "execution_count": 127,
   "metadata": {},
   "outputs": [
    {
     "output_type": "execute_result",
     "data": {
      "text/plain": "'U'"
     },
     "metadata": {},
     "execution_count": 127
    }
   ],
   "source": [
    "data[-2]"
   ]
  },
  {
   "cell_type": "code",
   "execution_count": 119,
   "metadata": {
    "tags": []
   },
   "outputs": [
    {
     "output_type": "execute_result",
     "data": {
      "text/plain": "'PP%*U*P%*U'"
     },
     "metadata": {},
     "execution_count": 119
    }
   ],
   "source": [
    "#task: figure out how to convert a hex string to a hex int\n",
    "c = data[-10:]\n",
    "c"
   ]
  },
  {
   "cell_type": "code",
   "execution_count": 128,
   "metadata": {
    "tags": []
   },
   "outputs": [],
   "source": [
    "d_int = [hex(ord(d)) for d in data]\n",
    "# for d in data:\n",
    "#     d_int.append(hex(ord(d)))\n",
    "# d_int"
   ]
  },
  {
   "cell_type": "code",
   "execution_count": 129,
   "metadata": {},
   "outputs": [
    {
     "output_type": "execute_result",
     "data": {
      "text/plain": "10240"
     },
     "metadata": {},
     "execution_count": 129
    }
   ],
   "source": [
    "len(d_int)"
   ]
  },
  {
   "cell_type": "code",
   "execution_count": 96,
   "metadata": {},
   "outputs": [
    {
     "output_type": "execute_result",
     "data": {
      "text/plain": "2"
     },
     "metadata": {},
     "execution_count": 96
    }
   ],
   "source": [
    "h = format(ord(c[4]), '#04x')\n",
    "int()"
   ]
  },
  {
   "cell_type": "code",
   "execution_count": 24,
   "metadata": {},
   "outputs": [
    {
     "output_type": "execute_result",
     "data": {
      "text/plain": "int"
     },
     "metadata": {},
     "execution_count": 24
    }
   ],
   "source": [
    "he = 0x04\n",
    "type(he)"
   ]
  },
  {
   "cell_type": "code",
   "execution_count": 14,
   "metadata": {},
   "outputs": [],
   "source": [
    "data_list = ['{:02x}'.format(ord(c)) for c in data]"
   ]
  },
  {
   "cell_type": "code",
   "execution_count": 52,
   "metadata": {},
   "outputs": [
    {
     "output_type": "execute_result",
     "data": {
      "text/plain": "'20'"
     },
     "metadata": {},
     "execution_count": 52
    }
   ],
   "source": [
    "data_list2 = [c for c in data]\n",
    "d = data_list[1]\n",
    "d\n",
    "#'{:02x}'.format(ord(d))\n"
   ]
  },
  {
   "cell_type": "code",
   "execution_count": 56,
   "metadata": {},
   "outputs": [
    {
     "output_type": "execute_result",
     "data": {
      "text/plain": "22"
     },
     "metadata": {},
     "execution_count": 56
    }
   ],
   "source": [
    "hexlist = [0xa, 0xb]\n",
    "hexlist[1] * 2"
   ]
  },
  {
   "cell_type": "code",
   "execution_count": 4,
   "metadata": {},
   "outputs": [
    {
     "output_type": "execute_result",
     "data": {
      "text/plain": "10240"
     },
     "metadata": {},
     "execution_count": 4
    }
   ],
   "source": [
    "len(data_list)"
   ]
  },
  {
   "cell_type": "code",
   "execution_count": 77,
   "metadata": {},
   "outputs": [
    {
     "output_type": "execute_result",
     "data": {
      "text/plain": "320.0"
     },
     "metadata": {},
     "execution_count": 77
    }
   ],
   "source": [
    "10240/32"
   ]
  },
  {
   "cell_type": "code",
   "execution_count": 5,
   "metadata": {},
   "outputs": [],
   "source": [
    "np_array = np.array(data_list)"
   ]
  },
  {
   "cell_type": "code",
   "execution_count": null,
   "metadata": {},
   "outputs": [],
   "source": []
  },
  {
   "cell_type": "code",
   "execution_count": null,
   "metadata": {},
   "outputs": [],
   "source": []
  },
  {
   "cell_type": "code",
   "execution_count": 6,
   "metadata": {},
   "outputs": [
    {
     "output_type": "execute_result",
     "data": {
      "text/plain": "array([['40', '20', '60', ..., '00', '30', '04'],\n       ['00', '00', '30', ..., '08', '01', '00'],\n       ['40', '08', '01', ..., '04', '01', '00'],\n       ...,\n       ['00', '30', '04', ..., '60', '0c', '01'],\n       ['00', '60', '08', ..., '20', '00', '00'],\n       ['00', '10', '02', ..., '08', '00', '00']], dtype='<U2')"
     },
     "metadata": {},
     "execution_count": 6
    }
   ],
   "source": [
    "data_array = np_array.reshape(32,320)\n",
    "data_array"
   ]
  },
  {
   "cell_type": "code",
   "execution_count": 12,
   "metadata": {},
   "outputs": [
    {
     "output_type": "execute_result",
     "data": {
      "text/plain": "array([  0,   1,   2,   3,   4,   5,   6,   7,   8,   9,  10,  11,  12,\n        13,  14,  15,  16,  17,  18,  19,  20,  21,  22,  23,  24,  25,\n        26,  27,  28,  29,  30,  31,  32,  33,  34,  35,  36,  37,  38,\n        39,  40,  41,  42,  43,  44,  45,  46,  47,  48,  49,  50,  51,\n        52,  53,  54,  55,  56,  57,  58,  59,  60,  61,  62,  63,  64,\n        65,  66,  67,  68,  69,  70,  71,  72,  73,  74,  75,  76,  77,\n        78,  79,  80,  81,  82,  83,  84,  85,  86,  87,  88,  89,  90,\n        91,  92,  93,  94,  95,  96,  97,  98,  99, 100, 101, 102, 103,\n       104, 105, 106, 107, 108, 109, 110, 111, 112, 113, 114, 115, 116,\n       117, 118, 119, 120, 121, 122, 123, 124, 125, 126, 127, 128, 129,\n       130, 131, 132, 133, 134, 135, 136, 137, 138, 139, 140, 141, 142,\n       143, 144, 145, 146, 147, 148, 149, 150, 151, 152, 153, 154, 155,\n       156, 157, 158, 159, 160, 161, 162, 163, 164, 165, 166, 167, 168,\n       169, 170, 171, 172, 173, 174, 175, 176, 177, 178, 179, 180, 181,\n       182, 183, 184, 185, 186, 187, 188, 189, 190, 191, 192, 193, 194,\n       195, 196, 197, 198, 199, 200, 201, 202, 203, 204, 205, 206, 207,\n       208, 209, 210, 211, 212, 213, 214, 215, 216, 217, 218, 219, 220,\n       221, 222, 223, 224, 225, 226, 227, 228, 229, 230, 231, 232, 233,\n       234, 235, 236, 237, 238, 239, 240, 241, 242, 243, 244, 245, 246,\n       247, 248, 249, 250, 251, 252, 253, 254, 255, 256, 257, 258, 259,\n       260, 261, 262, 263, 264, 265, 266, 267, 268, 269, 270, 271, 272,\n       273, 274, 275, 276, 277, 278, 279, 280, 281, 282, 283, 284, 285,\n       286, 287, 288, 289, 290, 291, 292, 293, 294, 295, 296, 297, 298,\n       299, 300, 301, 302, 303, 304, 305, 306, 307, 308, 309, 310, 311,\n       312, 313, 314, 315, 316, 317, 318, 319])"
     },
     "metadata": {},
     "execution_count": 12
    }
   ],
   "source": [
    "theta_array = np.arange(0,320)\n",
    "theta_array"
   ]
  },
  {
   "cell_type": "code",
   "execution_count": 10,
   "metadata": {},
   "outputs": [
    {
     "output_type": "execute_result",
     "data": {
      "text/plain": "array(['00', '00', '30', '04', '00', '00', '20', '04', '00', '00', '00',\n       '06', '00', '00', '30', '04', '00', '00', '30', '04', '00', '00',\n       '30', '04', '00', '00', '30', '04', '00', '00', '20', '00', '00',\n       '00', '30', '04', '00', '00', '10', '04', '00', '00', '10', '06',\n       '00', '00', '30', '04', '00', '00', '00', '06', '00', '00', '30',\n       '04', '00', '00', '30', '04', '00', '00', '30', '04', '00', '00',\n       '20', '04', '00', '00', '00', '06', '00', '00', '30', '04', '00',\n       '00', '30', '04', '00', '00', '30', '04', '00', '00', '10', '02',\n       '00', '40', '10', '02', '00', '40', '18', '02', '00', '40', '08',\n       '01', '00', '40', '00', '01', '00', '00', '0c', '01', '00', '60',\n       '0c', '00', '00', '60', '0c', '01', '00', '00', '04', '01', '00',\n       '20', '04', '00', '00', '30', '04', '00', '00', '10', '02', '00',\n       '40', '10', '00', '00', '00', '18', '02', '00', '40', '18', '02',\n       '00', '00', '18', '02', '00', '40', '08', '03', '00', '40', '08',\n       '03', '00', '40', '08', '01', '00', '40', '08', '00', '00', '20',\n       '04', '00', '00', '20', '00', '00', '00', '10', '02', '00', '40',\n       '18', '02', '00', '00', '18', '02', '00', '40', '08', '03', '00',\n       '40', '18', '03', '00', '40', '18', '02', '00', '40', '08', '01',\n       '00', '40', '08', '01', '00', '60', '08', '01', '00', '20', '04',\n       '01', '00', '20', '04', '00', '00', '30', '04', '00', '00', '30',\n       '04', '00', '00', '10', '02', '00', '40', '10', '02', '00', '40',\n       '18', '02', '00', '40', '18', '00', '00', '40', '08', '01', '00',\n       '40', '08', '01', '00', '00', '04', '00', '00', '20', '06', '00',\n       '00', '30', '04', '00', '00', '10', '02', '00', '40', '10', '02',\n       '00', '40', '18', '02', '00', '00', '08', '01', '00', '40', '08',\n       '01', '00', '60', '00', '01', '00', '20', '0c', '01', '00', '20',\n       '04', '00', '00', '30', '04', '00', '00', '30', '04', '00', '00',\n       '00', '02', '00', '40', '18', '02', '00', '00', '10', '02', '00',\n       '40', '18', '02', '00', '40', '18', '02', '00', '40', '08', '01',\n       '00'], dtype='<U2')"
     },
     "metadata": {},
     "execution_count": 10
    }
   ],
   "source": [
    "sample_array = data_array[1]\n",
    "sample_array"
   ]
  },
  {
   "cell_type": "code",
   "execution_count": 11,
   "metadata": {},
   "outputs": [
    {
     "output_type": "error",
     "ename": "UFuncTypeError",
     "evalue": "ufunc 'multiply' did not contain a loop with signature matching types (dtype('<U21'), dtype('<U21')) -> dtype('<U21')",
     "traceback": [
      "\u001b[0;31m---------------------------------------------------------------------------\u001b[0m",
      "\u001b[0;31mUFuncTypeError\u001b[0m                            Traceback (most recent call last)",
      "\u001b[0;32m<ipython-input-11-70409d8c72db>\u001b[0m in \u001b[0;36m<module>\u001b[0;34m\u001b[0m\n\u001b[0;32m----> 1\u001b[0;31m \u001b[0mtheta_array\u001b[0m \u001b[0;34m*\u001b[0m \u001b[0msample_array\u001b[0m\u001b[0;34m\u001b[0m\u001b[0;34m\u001b[0m\u001b[0m\n\u001b[0m",
      "\u001b[0;31mUFuncTypeError\u001b[0m: ufunc 'multiply' did not contain a loop with signature matching types (dtype('<U21'), dtype('<U21')) -> dtype('<U21')"
     ]
    }
   ],
   "source": [
    "theta_array * sample_array"
   ]
  },
  {
   "cell_type": "code",
   "execution_count": null,
   "metadata": {},
   "outputs": [],
   "source": []
  },
  {
   "cell_type": "code",
   "execution_count": null,
   "metadata": {},
   "outputs": [],
   "source": []
  },
  {
   "cell_type": "code",
   "execution_count": 81,
   "metadata": {},
   "outputs": [
    {
     "output_type": "execute_result",
     "data": {
      "text/plain": "array([['06', '44', '02', ..., '20', '04', '30'],\n       ['04', '20', '04', ..., '04', '30', '04'],\n       ['30', '04', '20', ..., '42', '10', '02'],\n       ...,\n       ['20', '04', '30', ..., '10', '06', '20'],\n       ['04', '30', '04', ..., '10', '02', '10'],\n       ['42', '10', '42', ..., '20', '04', '30']], dtype='<U2')"
     },
     "metadata": {},
     "execution_count": 81
    }
   ],
   "source": [
    "data = open('dataset/sine/sample1/sample.dat').read()\n",
    "data_list = ['{:02x}'.format(ord(c)) for c in data]\n",
    "np_array = np.array(data_list)\n",
    "np_array\n",
    "np_array1 = np_array.reshape(32,320)\n",
    "np_array1"
   ]
  },
  {
   "cell_type": "code",
   "execution_count": 92,
   "metadata": {},
   "outputs": [
    {
     "output_type": "execute_result",
     "data": {
      "text/plain": "(64, 320)"
     },
     "metadata": {},
     "execution_count": 92
    }
   ],
   "source": [
    "data_array1 = np.append(data_array, np_array1,axis=0)\n",
    "data_array1.shape"
   ]
  },
  {
   "cell_type": "markdown",
   "metadata": {},
   "source": []
  }
 ]
}